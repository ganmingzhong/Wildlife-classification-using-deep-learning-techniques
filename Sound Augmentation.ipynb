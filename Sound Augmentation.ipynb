{
 "cells": [
  {
   "cell_type": "code",
   "execution_count": null,
   "id": "32ccfc81",
   "metadata": {},
   "outputs": [],
   "source": [
    "from scipy.io import wavfile\n",
    "import scipy.io\n",
    "from scipy import signal\n",
    "from scipy.fft import fftshift, fft, fftfreq\n",
    "import numpy as np\n",
    "import matplotlib.pyplot as plt\n",
    "import scipy\n",
    "import math\n",
    "import os\n"
   ]
  },
  {
   "cell_type": "code",
   "execution_count": null,
   "id": "f137fc4b",
   "metadata": {},
   "outputs": [],
   "source": [
    "def read_audio(audio) :\n",
    "    audio_file_path = audio\n",
    "    samplerate, data = wavfile.read(audio_file_path)\n",
    "    length = data.shape[0] / samplerate\n",
    "    return samplerate,data,length\n",
    "\n",
    "def signal_show(data,samplerate):\n",
    "    length = data.shape[0] / samplerate\n",
    "    time = np.linspace(0., length, data.shape[0])\n",
    "    plt.plot(time, data)\n",
    "\n",
    "    plt.xlabel(\"Time [s]\")\n",
    "    plt.ylabel(\"Amplitude\")\n",
    "    #plt.show()\n",
    "\n",
    "def spectrogram(data,size,length,samplerate) :\n",
    "    NFFT=1024\n",
    "    #print(\"Size \",size)\n",
    "    #print(\"Length \",length)\n",
    "    subsampling_rate= size/length\n",
    "    #print(\"Subsampling rate: \",subsampling_rate)\n",
    "    ts = np.arange(size)* (1/subsampling_rate)\n",
    "    dt=1/subsampling_rate\n",
    "\n",
    "    window_hann = np.hanning(1024)\n",
    "\n",
    "    #plt.figure(figsize=(15,8))\n",
    "    spectrum,freqs,time,im=plt.specgram(data, Fs=subsampling_rate, cmap=\"jet\", NFFT=NFFT\n",
    "                                        ,noverlap =128,window=window_hann,detrend=\"mean\" )\n",
    "\n",
    "    spectrum_db = 20 * np.log10(spectrum / np.mean(spectrum))\n",
    "\n",
    "    one_d_arr = spectrum_db.flatten()\n",
    "    sorted_arr = np.sort(one_d_arr)\n",
    "    percentile_index = int(0.9 * len(sorted_arr)) #0.9\n",
    "    threshold = sorted_arr[percentile_index-1]\n",
    "    spectrum_db[spectrum_db <= threshold] = np.min(spectrum_db)\n",
    "\n",
    "\n",
    "    freq=np.linspace(0,subsampling_rate/2,num=spectrum_db.shape[0])\n",
    "    #print(\"Maximum freq: \",np.max(freq))\n",
    "    df = freq[1]-freq[0]\n",
    "\n",
    "    #print(\"spectrum_size\",spectrum.shape)\n",
    "    plt.imshow(\n",
    "        spectrum_db,\n",
    "        extent=(ts[0], ts[-1]+dt, freqs[0], freqs[-1]+df),\n",
    "        origin=\"lower\",\n",
    "        cmap=\"jet\",\n",
    "        aspect=\"auto\",vmin=np.min(spectrum_db), vmax=np.max(spectrum_db)\n",
    "    )\n",
    "    plt.colorbar()\n",
    "    plt.title('Spectrogram of tapir')\n",
    "    plt.ylabel('Frequency [Hz]')\n",
    "    plt.xlabel('Time [sec]')\n",
    "    return spectrum_db,np.min(spectrum_db),np.max(spectrum_db)"
   ]
  },
  {
   "cell_type": "code",
   "execution_count": null,
   "id": "0921fe6c",
   "metadata": {},
   "outputs": [],
   "source": [
    "def spectrogram_afterfilter(data,size,length,samplerate,min_db,max_db) :\n",
    "    NFFT=1024\n",
    "    #print(\"Size \",size)\n",
    "    #print(\"Length \",length)\n",
    "    subsampling_rate= size/length\n",
    "    print(\"Subsampling rate: \",subsampling_rate)\n",
    "    ts = np.arange(size)* (1/subsampling_rate)\n",
    "    dt=1/subsampling_rate\n",
    "\n",
    "    window_hann = np.hanning(1024)\n",
    "\n",
    "    #plt.figure(figsize=(15,8))\n",
    "    spectrum,freqs,time,im=plt.specgram(data, Fs=subsampling_rate, cmap=\"jet\", NFFT=NFFT\n",
    "                                        ,noverlap =128,window=window_hann,detrend=\"mean\" )\n",
    "\n",
    "    #make sure there is no zero in the array\n",
    "    smallest_positive = np.amin(spectrum[spectrum > 0])\n",
    "    spectrum=np.where(spectrum <= 0, smallest_positive, spectrum)\n",
    "\n",
    "    spectrum_db = 20 * np.log10(spectrum / np.mean(spectrum))\n",
    "\n",
    "    one_d_arr = spectrum_db.flatten()\n",
    "    sorted_arr = np.sort(one_d_arr)\n",
    "    percentile_index = int(0.95 * len(sorted_arr))\n",
    "    threshold = sorted_arr[percentile_index-1]\n",
    "    spectrum_db[spectrum_db <= threshold] = np.min(spectrum_db)\n",
    "\n",
    "\n",
    "    freq=np.linspace(0,subsampling_rate/2,num=spectrum_db.shape[0])\n",
    "    #print(\"Maximum freq: \",np.max(freq))\n",
    "    df = freq[1]-freq[0]\n",
    "\n",
    "    print(\"spectrum_size\",spectrum.shape)\n",
    "    plt.imshow(\n",
    "        spectrum_db,\n",
    "        extent=(ts[0], ts[-1]+dt, freqs[0], freqs[-1]+df),\n",
    "        origin=\"lower\",\n",
    "        cmap=\"jet\",\n",
    "        aspect=\"auto\",vmin=min_db, vmax=max_db\n",
    "    )\n",
    "    plt.colorbar()\n",
    "    plt.title('Spectrogram of tapir')\n",
    "    plt.ylabel('Frequency [Hz]')\n",
    "    plt.xlabel('Time [sec]')\n",
    "\n",
    "\n",
    "    \"\"\"plotpath='/content/drive/MyDrive/FYP/Spectrogram/Tapir/Tapir_zoo_png/01_01_ch0_zoo.png'\n",
    "    plt.savefig(plotpath, bbox_inches=\"tight\",pad_inches = 0)\"\"\"\n",
    "    return spectrum_db"
   ]
  },
  {
   "cell_type": "code",
   "execution_count": null,
   "id": "9ad87fdf",
   "metadata": {},
   "outputs": [],
   "source": [
    "def write_audio(file_name,data):\n",
    "    samplerate = 44100\n",
    "    wavfile.write(file_name, samplerate, data)"
   ]
  },
  {
   "cell_type": "code",
   "execution_count": null,
   "id": "4716b1f4",
   "metadata": {},
   "outputs": [],
   "source": [
    "Tapir_zoo_path=\"D:\\FYP dataset new\\Temp trim audio\\Tapir_Zoo_trim\"\n",
    "Tiger_zoo_path=\"D:\\FYP dataset new\\Temp trim audio\\Tiger_Zoo_trim\"\n",
    "Elephant_zoo_path=\"D:\\FYP dataset new\\Temp trim audio\\Elephant_Zoo_trim\"\n",
    "SunBear_zoo_path=\"D:\\FYP dataset new\\Temp trim audio\\SunBear_Zoo_trim\"\n",
    "\n",
    "Tapir_wild_path=\"D:\\FYP dataset new\\Temp trim audio\\Tapir_Wild_trim\"\n",
    "Tiger_wild_path=\"D:\\FYP dataset new\\Temp trim audio\\Tiger_Wild_trim\"\n",
    "Elephant_wild_path=\"D:\\FYP dataset new\\Temp trim audio\\Elephant_Wild_trim\"\n",
    "SunBear_wild_path=\"D:\\FYP dataset new\\Temp trim audio\\SunBear_Wild_trim\""
   ]
  },
  {
   "cell_type": "code",
   "execution_count": null,
   "id": "eeccc17e",
   "metadata": {},
   "outputs": [],
   "source": [
    "Tapir_zoo_list=os.listdir(Tapir_zoo_path)\n",
    "Tapir_zoo_list"
   ]
  },
  {
   "cell_type": "code",
   "execution_count": null,
   "id": "ddf91e8f",
   "metadata": {},
   "outputs": [],
   "source": [
    "Tapir_audio=[]\n",
    "Tapir_zoo_list=os.listdir(Tapir_zoo_path)\n",
    "Tapir_audio=[Tapir_zoo_path + \"\\\\\" + file for file in Tapir_zoo_list]\n"
   ]
  },
  {
   "cell_type": "code",
   "execution_count": null,
   "id": "3662e15a",
   "metadata": {},
   "outputs": [],
   "source": [
    "Tapir_wild_list=os.listdir(Tapir_wild_path)\n",
    "Tapir_audio_combine=Tapir_audio + [Tapir_wild_path + \"\\\\\" + file for file in Tapir_wild_list]\n"
   ]
  },
  {
   "cell_type": "markdown",
   "id": "0e0980e9",
   "metadata": {},
   "source": [
    "# Start here"
   ]
  },
  {
   "cell_type": "code",
   "execution_count": null,
   "id": "cdea3468",
   "metadata": {},
   "outputs": [],
   "source": [
    "SunBear_zoo_list=os.listdir(SunBear_zoo_path)\n",
    "SunBear_wild_list=os.listdir(SunBear_wild_path)\n",
    "\n",
    "for file in SunBear_wild_list:\n",
    "    path=SunBear_wild_path+\"\\\\\"\n",
    "    location=\"\"\n",
    "    if (\"Zoo\" in path):\n",
    "        location=\"zoo_\"\n",
    "        \n",
    "    elif(\"Wild\" in path):\n",
    "        location=\"wild_\"\n",
    "        \n",
    "    samplerate,data,length = read_audio(path+file)\n",
    "    write_audio(\"Sun Bear/\"+location+file,data)"
   ]
  },
  {
   "cell_type": "markdown",
   "id": "8304b4f2",
   "metadata": {},
   "source": [
    "# Pitching\n"
   ]
  },
  {
   "cell_type": "code",
   "execution_count": null,
   "id": "7846f128",
   "metadata": {},
   "outputs": [],
   "source": [
    "\n",
    "def manipulate(data, sampling_rate, pitch_factor):\n",
    "    return librosa.effects.pitch_shift(data, sr=sampling_rate, n_steps=pitch_factor)"
   ]
  },
  {
   "cell_type": "code",
   "execution_count": null,
   "id": "01afac4d",
   "metadata": {},
   "outputs": [],
   "source": [
    "fol_path=\"D:\\FYP dataset new\\MMU folder_FYP_Spectrogram creation\\Environment data\\Environment noise_wav\"\n",
    "fol_list=os.listdir(fol_path)\n",
    "\n",
    "for file in fol_list:\n",
    "    if file ==\".ipynb_checkpoints\":\n",
    "        continue\n",
    "    samplerate,data,length = read_audio(fol_path+\"\\\\\"+file)\n",
    "    float_data = data.astype(float) \n",
    "    data_pitch = manipulate(float_data, samplerate, 3)\n",
    "    int_data =data_pitch.astype(int)\n",
    "    write_audio(\"D:\\FYP dataset new\\MMU folder_FYP_Spectrogram creation\\Environment data\\Environment noise_aug_spectrogram\\\\pitch_\"+file,int_data)"
   ]
  },
  {
   "cell_type": "markdown",
   "id": "96f64de2",
   "metadata": {},
   "source": [
    "# Test read result"
   ]
  },
  {
   "cell_type": "code",
   "execution_count": null,
   "id": "382483cf",
   "metadata": {},
   "outputs": [],
   "source": [
    "example=\"Elephant_pitch\"\n",
    "list1 = os.listdir(\"D:\\FYP dataset new\\MMU folder_FYP_Spectrogram creation\\Environment data\\Environment noise_aug_spectrogram\")\n",
    "\n",
    "samplerate,data,length = read_audio(\"D:\\FYP dataset new\\MMU folder_FYP_Spectrogram creation\\Environment data\\Environment noise_aug_spectrogram\"+\"\\\\\"+list1[3])\n",
    "signal_show(data,samplerate)\n",
    "\n",
    "display(Audio(data,rate=samplerate))\n",
    "\n",
    "plt.figure(figsize=(8, 5))\n",
    "spectrogram_value_clean_trim,min_db,max_db=spectrogram(data,data.shape[0],length,samplerate)"
   ]
  },
  {
   "cell_type": "markdown",
   "id": "3a7e5fdd",
   "metadata": {},
   "source": [
    "# Add noise"
   ]
  },
  {
   "cell_type": "code",
   "execution_count": null,
   "id": "f596aa66",
   "metadata": {},
   "outputs": [],
   "source": [
    "import torch\n",
    "import torchaudio\n",
    "import torchaudio.functional \n",
    "import os"
   ]
  },
  {
   "cell_type": "code",
   "execution_count": null,
   "id": "c6d5d9f1",
   "metadata": {},
   "outputs": [],
   "source": [
    "fol_path=\"D:\\FYP dataset new\\MMU folder_FYP_Spectrogram creation\\Environment data\\Environment noise_wav\"\n",
    "fol_list = os.listdir(fol_path)\n",
    "save_fol = \"Add RainNoise/EnvironmentNoise\"\n",
    "samplerate = 44100\n",
    "length = 1\n",
    "\n",
    "for file in fol_list:\n",
    "    if file ==\".ipynb_checkpoints\":\n",
    "        continue\n",
    "    speech, _ = torchaudio.load(fol_path+\"//\"+file, format='wav')\n",
    "    noise, _ = torchaudio.load(\"rainforest_rainNoise.wav\", format='wav')\n",
    "    noise = noise[0, : speech.shape[1]]\n",
    "    if speech.size(-1) >44100 :\n",
    "        speech =  speech[:, :noise.size(-1)] \n",
    "    noise=noise.unsqueeze(dim=0)\n",
    "    snr_dbs = torch.tensor([20])\n",
    "    noisy_speeches = torchaudio.functional.add_noise(speech, noise, snr_dbs) \n",
    "    noisy_speeches_np=noisy_speeches.numpy()\n",
    "    flattened_array = noisy_speeches_np.flatten()\n",
    "    \n",
    "    write_audio(save_fol+\"//addRainNoise_\"+file,flattened_array)\n"
   ]
  },
  {
   "cell_type": "code",
   "execution_count": null,
   "id": "e9933912",
   "metadata": {},
   "outputs": [],
   "source": [
    "#test with example\n",
    "\n",
    "example=\"Add Noise/Tapir_addNoise\"\n",
    "list1 = os.listdir(example)\n",
    "samplerate,data,length = read_audio(example+\"\\\\\"+list1[50])\n",
    "\n",
    "signal_show(data,samplerate)\n",
    "\n",
    "display(Audio(data,rate=samplerate))\n",
    "\n",
    "plt.figure(figsize=(8, 5))\n",
    "spectrogram_value_clean_trim,min_db,max_db=spectrogram(data,data.shape[0],length,samplerate)\n",
    "\n",
    "#write_audio(\"Tapir_addNoise/addNoise_wild_10_1_ch0.wav\",data)"
   ]
  },
  {
   "cell_type": "markdown",
   "id": "59ca6b35",
   "metadata": {},
   "source": [
    "# Shift sound \n"
   ]
  },
  {
   "cell_type": "code",
   "execution_count": null,
   "id": "b80d869c",
   "metadata": {},
   "outputs": [],
   "source": [
    "import numpy as np\n",
    "def manipulate(data, sampling_rate, shift_max, shift_direction):\n",
    "    shift = np.random.randint(sampling_rate * shift_max)\n",
    "    if shift_direction == 'right':\n",
    "        shift = -shift\n",
    "    elif shift_direction == 'both':\n",
    "        direction = np.random.randint(0, 2)\n",
    "        if direction == 1:\n",
    "            shift = -shift\n",
    "    augmented_data = np.roll(data, shift)\n",
    "    # Set to silence for heading/ tailing\n",
    "    if shift > 0:\n",
    "        augmented_data[:shift] = np.random.randint(1,500)\n",
    "    else:\n",
    "        augmented_data[shift:] = np.random.randint(1,500)\n",
    "    return augmented_data"
   ]
  },
  {
   "cell_type": "code",
   "execution_count": null,
   "id": "0f5adc5c",
   "metadata": {},
   "outputs": [],
   "source": [
    "# test\n",
    "fol_path=\"D:\\FYP dataset new\\MMU folder_FYP_Spectrogram creation\\Environment data\\Environment noise_wav\"\n",
    "fol_list = os.listdir(fol_path)\n",
    "save_fol = \"D:\\FYP dataset new\\MMU folder_FYP_Spectrogram creation\\Environment data\\Environment noise_aug_wav\"\n",
    "samplerate = 44100\n",
    "length = 1"
   ]
  },
  {
   "cell_type": "code",
   "execution_count": null,
   "id": "3df5baaa",
   "metadata": {
    "scrolled": true
   },
   "outputs": [],
   "source": [
    "samplerate,data,length = read_audio(fol_path+\"/\"+fol_list[1])\n",
    "\n",
    "signal_show(data,samplerate)\n",
    "\n",
    "display(Audio(data,rate=samplerate))\n",
    "\n",
    "plt.figure(figsize=(8, 5))\n",
    "spectrogram_value_clean_trim,min_db,max_db=spectrogram(data,data.shape[0],length,samplerate)\n",
    "\n",
    "plt.figure(figsize=(8, 5))\n",
    "spectrogram_value_clean_trim=spectrogram_afterfilter(data,data.shape[0],length,samplerate,min_db,max_db)"
   ]
  },
  {
   "cell_type": "code",
   "execution_count": null,
   "id": "3d0d7213",
   "metadata": {
    "scrolled": true
   },
   "outputs": [],
   "source": [
    "#shift example \n",
    "\n",
    "shift_data = manipulate(data, samplerate, 0.3, \"right\")\n",
    "\n",
    "signal_show(shift_data,samplerate)\n",
    "\n",
    "display(Audio(shift_data,rate=samplerate))\n",
    "\n",
    "plt.figure(figsize=(8, 5))\n",
    "spectrogram_value_clean_trim=spectrogram_afterfilter(shift_data,shift_data.shape[0],length,samplerate,min_db,max_db)"
   ]
  },
  {
   "cell_type": "code",
   "execution_count": null,
   "id": "9b93ce6e",
   "metadata": {},
   "outputs": [],
   "source": [
    "#shift example \n",
    "\n",
    "shift_data = manipulate(data, samplerate, 0.3, \"left\")\n",
    "\n",
    "signal_show(shift_data,samplerate)\n",
    "\n",
    "display(Audio(shift_data,rate=samplerate))\n",
    "\n",
    "plt.figure(figsize=(8, 5))\n",
    "spectrogram_value_clean_trim=spectrogram_afterfilter(shift_data,shift_data.shape[0],length,samplerate,min_db,max_db)"
   ]
  },
  {
   "cell_type": "code",
   "execution_count": null,
   "id": "6c492c2d",
   "metadata": {},
   "outputs": [],
   "source": [
    "import random\n",
    "\n",
    "fol_path=\"D:\\FYP dataset new\\MMU folder_FYP_Spectrogram creation\\Environment data\\Environment noise_wav\"\n",
    "fol_list = os.listdir(fol_path)\n",
    "save_fol = \"D:\\FYP dataset new\\MMU folder_FYP_Spectrogram creation\\Environment data\\Environment noise_aug_wav\"\n",
    "length = 1\n",
    "shift_length=0\n",
    "shift_direction = \"\"\n",
    "\n",
    "for file in fol_list:\n",
    "    if file ==\".ipynb_checkpoints\":\n",
    "        continue\n",
    "    samplerate,data,length = read_audio(fol_path+\"//\"+file) \n",
    "    shift_length = random.randint(2,3) * 0.1\n",
    "    rand_num = random.randint(0,1)\n",
    "    if(rand_num==0):\n",
    "        shift_direction  = \"left\"\n",
    "    else:\n",
    "        shift_direction  = \"right\"\n",
    "    \n",
    "    shift_data = manipulate(data, samplerate, shift_length, shift_direction)\n",
    "    write_audio(save_fol+\"/shift_\"+file,shift_data)\n",
    "    plt.figure(figsize=(8, 5))\n",
    "    spectrogram_value_clean_trim,min_db,max_db=spectrogram(data,data.shape[0],length,samplerate)\n",
    "\n",
    "    plt.figure(figsize=(8, 5))\n",
    "    spectrogram_value_clean_trim=spectrogram_afterfilter(shift_data,shift_data.shape[0],length,samplerate,min_db,max_db)"
   ]
  },
  {
   "cell_type": "markdown",
   "id": "b4331992-502d-4e16-8901-7cfb92ef1882",
   "metadata": {},
   "source": [
    "# Speed up audio"
   ]
  },
  {
   "cell_type": "code",
   "execution_count": null,
   "id": "7dd7197d-e439-4079-8254-fc7fc837f874",
   "metadata": {},
   "outputs": [],
   "source": [
    "import librosa\n",
    "def manipulate_speed(data, speed_factor):\n",
    "    return librosa.effects.time_stretch(data, rate = speed_factor)"
   ]
  },
  {
   "cell_type": "code",
   "execution_count": null,
   "id": "a54ac397-0e5e-4735-ac04-21d62c404e41",
   "metadata": {},
   "outputs": [],
   "source": [
    "fol_path=\"Clean/SunBear_clean\"\n",
    "fol_list = os.listdir(fol_path)\n",
    "save_fol = \"SpeedUp/SunBear\"\n",
    "length = 1\n",
    "\n",
    "for file in fol_list:\n",
    "    if file ==\".ipynb_checkpoints\":\n",
    "        continue\n",
    "    samplerate,data,length = read_audio(fol_path+\"/\"+file) \n",
    "    data=data.astype(float)\n",
    "    speedUp_data = manipulate_speed(data,1.4)\n",
    "    int_data = np.int16(speedUp_data)\n",
    "    write_audio(save_fol+\"\\\\speedUp_\"+file,int_data)\n",
    "    plt.figure(figsize=(8, 5))\n",
    "    spectrogram_value_clean_trim,min_db,max_db=spectrogram(data,data.shape[0],length,samplerate)\n",
    "\n",
    "    plt.figure(figsize=(8, 5))\n",
    "    spectrogram_value_clean_trim=spectrogram(int_data,int_data.shape[0],int_data.shape[0]/samplerate,samplerate)"
   ]
  },
  {
   "cell_type": "markdown",
   "id": "0f20dfa9-4915-4a66-835c-a4271f8589f9",
   "metadata": {},
   "source": [
    "# Distort"
   ]
  },
  {
   "cell_type": "code",
   "execution_count": null,
   "id": "bcd9b22f-d5e2-4e37-8293-b4204ae7e1c1",
   "metadata": {},
   "outputs": [],
   "source": [
    "fol_path=\"D:\\FYP dataset new\\MMU folder_FYP_Spectrogram creation\\Environment data\\Environment noise_wav\"\n",
    "fol_list = os.listdir(fol_path)\n",
    "save_fol = \"Distort/EnvironmentNoise\"\n",
    "length = 1\n",
    "\n",
    "for file in fol_list:\n",
    "    if file ==\".ipynb_checkpoints\":\n",
    "        continue\n",
    "    samplerate,data,length = read_audio(fol_path+\"\\\\\"+file) \n",
    "    normalized_data = data / np.max(np.abs(data), axis=0)\n",
    "    distortion_threshold = 0.7\n",
    "    clipped_data = np.clip(normalized_data, -distortion_threshold, distortion_threshold)\n",
    "\n",
    "    unnormalized_data = clipped_data * np.max(np.abs(data), axis=0)\n",
    "    int_data = np.int16(unnormalized_data)\n",
    "    write_audio(save_fol+\"\\\\distort_\"+file,int_data)\n",
    "    plt.figure(figsize=(8, 5))\n",
    "    spectrogram_value_clean_trim,min_db,max_db=spectrogram(data,data.shape[0],length,samplerate)\n",
    "\n",
    "    plt.figure(figsize=(8, 5))\n",
    "    spectrogram_value_clean_trim=spectrogram(int_data,int_data.shape[0],int_data.shape[0]/samplerate,samplerate)"
   ]
  },
  {
   "cell_type": "markdown",
   "id": "40464124",
   "metadata": {},
   "source": [
    "# Read original sound (1 example)"
   ]
  },
  {
   "cell_type": "code",
   "execution_count": null,
   "id": "a99b81af",
   "metadata": {},
   "outputs": [],
   "source": [
    "fol_list=os.listdir(\"Tapir\")\n",
    "\n",
    "noise_path= \"Tapir/\"+fol_list[110]\n",
    "samplerate,data,length = read_audio(noise_path)\n",
    "\n",
    "\n",
    "signal_show(data,samplerate)\n",
    "\n",
    "display(Audio(data,rate=samplerate))\n",
    "\n",
    "plt.figure(figsize=(8, 5))\n",
    "spectrogram_value_clean_trim,min_db,max_db=spectrogram(data,data.shape[0],length,samplerate)"
   ]
  },
  {
   "cell_type": "code",
   "execution_count": null,
   "id": "1e8c2cb6",
   "metadata": {},
   "outputs": [],
   "source": [
    "fol_list=os.listdir(\"Clean/Tapir_clean\")\n",
    "\n",
    "noise_path= \"Tapir/\"+fol_list[110]\n",
    "samplerate,data,length = read_audio(noise_path)\n",
    "\n",
    "\n",
    "signal_show(data,samplerate)\n",
    "\n",
    "display(Audio(data,rate=samplerate))\n",
    "\n",
    "plt.figure(figsize=(8, 5))\n",
    "spectrogram_value_clean_trim,min_db,max_db=spectrogram(data,data.shape[0],length,samplerate)"
   ]
  }
 ],
 "metadata": {
  "kernelspec": {
   "display_name": "Python 3",
   "language": "python",
   "name": "python3"
  },
  "language_info": {
   "codemirror_mode": {
    "name": "ipython",
    "version": 3
   },
   "file_extension": ".py",
   "mimetype": "text/x-python",
   "name": "python",
   "nbconvert_exporter": "python",
   "pygments_lexer": "ipython3",
   "version": "3.8.8"
  }
 },
 "nbformat": 4,
 "nbformat_minor": 5
}
