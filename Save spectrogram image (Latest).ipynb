{
 "cells": [
  {
   "cell_type": "code",
   "execution_count": null,
   "metadata": {
    "executionInfo": {
     "elapsed": 28646,
     "status": "ok",
     "timestamp": 1712978281782,
     "user": {
      "displayName": "Gan Mingzhong",
      "userId": "08519961369428623346"
     },
     "user_tz": -480
    },
    "id": "nEzTQ7g6NEk1"
   },
   "outputs": [],
   "source": [
    "from scipy.io import wavfile\n",
    "import scipy.io\n",
    "from scipy import signal\n",
    "from scipy.fft import fftshift, fft, fftfreq\n",
    "import numpy as np\n",
    "import matplotlib.pyplot as plt\n",
    "import os\n",
    "import random"
   ]
  },
  {
   "cell_type": "code",
   "execution_count": null,
   "metadata": {
    "executionInfo": {
     "elapsed": 14,
     "status": "ok",
     "timestamp": 1712978281783,
     "user": {
      "displayName": "Gan Mingzhong",
      "userId": "08519961369428623346"
     },
     "user_tz": -480
    },
    "id": "GbIJsHOwNNx4"
   },
   "outputs": [],
   "source": [
    "def read_audio(audio) :\n",
    "    audio_file_path = audio\n",
    "    samplerate, data = wavfile.read(audio_file_path)\n",
    "    length = data.shape[0] / samplerate\n",
    "    return samplerate,data,length\n",
    "\n",
    "def signal_show(data,samplerate):\n",
    "    length = data.shape[0] / samplerate\n",
    "    time = np.linspace(0., length, data.shape[0])\n",
    "    plt.plot(time, data)\n",
    "\n",
    "    \"\"\"plt.xlabel(\"Time [s]\")\n",
    "    plt.ylabel(\"Amplitude\")\"\"\"\n",
    "    plt.axis('off')\n",
    "    #plt.show()\n",
    "\n",
    "def spectrogram(data,size,length,samplerate) :\n",
    "    NFFT=1024\n",
    "    #print(\"Size \",size)\n",
    "    #print(\"Length \",length)\n",
    "    subsampling_rate= size/length\n",
    "    #print(\"Subsampling rate: \",subsampling_rate)\n",
    "    ts = np.arange(size)* (1/subsampling_rate)\n",
    "    dt=1/subsampling_rate\n",
    "\n",
    "    window_hann = np.hanning(1024)\n",
    "\n",
    "    #plt.figure(figsize=(15,8))\n",
    "    spectrum,freqs,time,im=plt.specgram(data, Fs=subsampling_rate, cmap=\"jet\", NFFT=NFFT\n",
    "                                        ,noverlap =128,window=window_hann,detrend=\"mean\" )\n",
    "\n",
    "    spectrum_db = 20 * np.log10(spectrum / np.mean(spectrum))\n",
    "\n",
    "    \"\"\"one_d_arr = spectrum_db.flatten()\n",
    "    sorted_arr = np.sort(one_d_arr)\n",
    "    percentile_index = int(0.7 * len(sorted_arr))\n",
    "    threshold = sorted_arr[percentile_index-1]\n",
    "    spectrum_db[spectrum_db <= threshold] = np.min(spectrum_db)\"\"\"\n",
    "\n",
    "\n",
    "    freq=np.linspace(0,subsampling_rate/2,num=spectrum_db.shape[0])\n",
    "    #print(\"Maximum freq: \",np.max(freq))\n",
    "    df = freq[1]-freq[0]\n",
    "\n",
    "    #print(\"spectrum_size\",spectrum.shape)\n",
    "    plt.imshow(\n",
    "        spectrum_db,\n",
    "        extent=(ts[0], ts[-1]+dt, freqs[0], freqs[-1]+df),\n",
    "        origin=\"lower\",\n",
    "        cmap=\"jet\",\n",
    "        aspect=\"auto\",vmin=np.min(spectrum_db), vmax=np.max(spectrum_db)\n",
    "    )\n",
    "    plt.colorbar()\n",
    "    #plt.title('Spectrogram ')\n",
    "    plt.ylabel('Frequency [Hz]')\n",
    "    plt.xlabel('Time [sec]')\n",
    "    return spectrum_db,np.min(spectrum_db),np.max(spectrum_db)"
   ]
  },
  {
   "cell_type": "code",
   "execution_count": null,
   "metadata": {},
   "outputs": [],
   "source": [
    "def spectrogram2(data,size,length,samplerate) :\n",
    "    NFFT=1024\n",
    "    #print(\"Size \",size)\n",
    "    #print(\"Length \",length)\n",
    "    subsampling_rate= size/length\n",
    "    #print(\"Subsampling rate: \",subsampling_rate)\n",
    "    ts = np.arange(size)* (1/subsampling_rate)\n",
    "    dt=1/subsampling_rate\n",
    "\n",
    "    window_hann = np.hanning(1024)\n",
    "    spectrum,freqs,time,im=plt.specgram(data, Fs=subsampling_rate, cmap=\"jet\", NFFT=NFFT\n",
    "                                        ,noverlap =128,window=window_hann,detrend=\"mean\" )\n",
    "\n",
    "    spectrum_db = 20 * np.log10(spectrum / np.mean(spectrum))\n",
    "\n",
    "    \"\"\"one_d_arr = spectrum_db.flatten()\n",
    "    sorted_arr = np.sort(one_d_arr)\n",
    "    percentile_index = int(0.6 * len(sorted_arr))\n",
    "    threshold = sorted_arr[percentile_index-1]\n",
    "    spectrum_db[spectrum_db <= threshold] = np.min(spectrum_db)\"\"\"\n",
    "\n",
    "\n",
    "    freq=np.linspace(0,subsampling_rate/2,num=spectrum_db.shape[0])\n",
    "    df = freq[1]-freq[0]\n",
    "\n",
    "    plt.imshow(\n",
    "        spectrum_db,\n",
    "        extent=(ts[0], ts[-1]+dt, freqs[0], freqs[-1]+df),\n",
    "        origin=\"lower\",\n",
    "        cmap=\"jet\",\n",
    "        aspect=\"auto\",vmin=np.min(spectrum_db), vmax=np.max(spectrum_db)\n",
    "    )\n",
    "    plt.axis('off')\n",
    "    plt.margins(y=0,x=0)\n",
    "    #plt.colorbar()\n",
    "    return spectrum_db"
   ]
  },
  {
   "cell_type": "code",
   "execution_count": null,
   "metadata": {
    "executionInfo": {
     "elapsed": 13,
     "status": "ok",
     "timestamp": 1712978281783,
     "user": {
      "displayName": "Gan Mingzhong",
      "userId": "08519961369428623346"
     },
     "user_tz": -480
    },
    "id": "xBgE3TaNNPaY"
   },
   "outputs": [],
   "source": [
    "def spectrogram_afterfilter(data,size,length,samplerate,min_db,max_db) :\n",
    "    NFFT=1024\n",
    "    #print(\"Size \",size)\n",
    "    #print(\"Length \",length)\n",
    "    subsampling_rate= size/length\n",
    "    print(\"Subsampling rate: \",subsampling_rate)\n",
    "    ts = np.arange(size)* (1/subsampling_rate)\n",
    "    dt=1/subsampling_rate\n",
    "\n",
    "    window_hann = np.hanning(1024)\n",
    "\n",
    "    #plt.figure(figsize=(15,8))\n",
    "    spectrum,freqs,time,im=plt.specgram(data, Fs=subsampling_rate, cmap=\"jet\", NFFT=NFFT\n",
    "                                        ,noverlap =128,window=window_hann,detrend=\"mean\" )\n",
    "\n",
    "    #make sure there is no zero in the array\n",
    "    smallest_positive = np.amin(spectrum[spectrum > 0])\n",
    "    spectrum=np.where(spectrum <= 0, smallest_positive, spectrum)\n",
    "\n",
    "    spectrum_db = 20 * np.log10(spectrum / np.mean(spectrum))\n",
    "\n",
    "    one_d_arr = spectrum_db.flatten()\n",
    "    sorted_arr = np.sort(one_d_arr)\n",
    "    percentile_index = int(0.7 * len(sorted_arr))\n",
    "    threshold = sorted_arr[percentile_index-1]\n",
    "    spectrum_db[spectrum_db <= threshold] = np.min(spectrum_db)\n",
    "\n",
    "\n",
    "    freq=np.linspace(0,subsampling_rate/2,num=spectrum_db.shape[0])\n",
    "    #print(\"Maximum freq: \",np.max(freq))\n",
    "    df = freq[1]-freq[0]\n",
    "\n",
    "    print(\"spectrum_size\",spectrum.shape)\n",
    "    plt.imshow(\n",
    "        spectrum_db,\n",
    "        extent=(ts[0], ts[-1]+dt, freqs[0], freqs[-1]+df),\n",
    "        origin=\"lower\",\n",
    "        cmap=\"jet\",\n",
    "        aspect=\"auto\",vmin=min_db, vmax=max_db\n",
    "    )\n",
    "    \"\"\"plt.colorbar()\n",
    "    plt.title('Spectrogram of tapir')\n",
    "    plt.ylabel('Frequency [Hz]')\n",
    "    plt.xlabel('Time [sec]')\"\"\"\n",
    "\n",
    "    plt.axis('off')\n",
    "    plt.margins(y=0,x=0)\n",
    "\n",
    "\n",
    "    \"\"\"plotpath='/content/drive/MyDrive/FYP/Spectrogram/Tapir/Tapir_zoo_png/01_01_ch0_zoo.png'\n",
    "    plt.savefig(plotpath, bbox_inches=\"tight\",pad_inches = 0)\"\"\"\n",
    "    return spectrum_db"
   ]
  },
  {
   "cell_type": "code",
   "execution_count": null,
   "metadata": {
    "executionInfo": {
     "elapsed": 13,
     "status": "ok",
     "timestamp": 1712978281783,
     "user": {
      "displayName": "Gan Mingzhong",
      "userId": "08519961369428623346"
     },
     "user_tz": -480
    },
    "id": "A-wLIM6CbwVU"
   },
   "outputs": [],
   "source": [
    "def downsampling(data,samplerate,new_samplerate):\n",
    "    length = data.shape[0] / samplerate\n",
    "    new_sample=int(new_samplerate*length)\n",
    "    new_data = signal.resample(data, new_sample)\n",
    "    print(new_data.shape)\n",
    "    return new_data\n"
   ]
  },
  {
   "cell_type": "code",
   "execution_count": null,
   "metadata": {
    "executionInfo": {
     "elapsed": 12,
     "status": "ok",
     "timestamp": 1712978281783,
     "user": {
      "displayName": "Gan Mingzhong",
      "userId": "08519961369428623346"
     },
     "user_tz": -480
    },
    "id": "Qko8ds3fPuEx"
   },
   "outputs": [],
   "source": [
    "from scipy.signal import butter, lfilter\n",
    "\n",
    "def butter_bandpass(lowcut, highcut, sr, order):\n",
    "    nyquist = 0.5 * sr\n",
    "    low = lowcut / nyquist\n",
    "    high = highcut / nyquist\n",
    "    b, a = butter(order, [low, high], btype='bandpass')\n",
    "    return b, a\n",
    "\n",
    "def filter_signal(data, sr, lowcut, highcut, order):\n",
    "    b, a = butter_bandpass(lowcut, highcut, sr, order=order)\n",
    "    y = lfilter(b, a, data)\n",
    "    return y"
   ]
  },
  {
   "cell_type": "code",
   "execution_count": null,
   "metadata": {},
   "outputs": [],
   "source": [
    "def signal_segmentation(data,start,end,samplerate):\n",
    "    start_point = int(start * samplerate)\n",
    "    end_point = int(end * samplerate)\n",
    "    new_data=data[start_point:end_point+1]\n",
    "    return new_data"
   ]
  },
  {
   "cell_type": "markdown",
   "metadata": {},
   "source": [
    "# segmentize and save audio (environment noise)"
   ]
  },
  {
   "cell_type": "code",
   "execution_count": null,
   "metadata": {},
   "outputs": [],
   "source": [
    "def write_audio(file_name,data):\n",
    "    samplerate = 44100\n",
    "    wavfile.write(file_name, samplerate, data)"
   ]
  },
  {
   "cell_type": "code",
   "execution_count": null,
   "metadata": {},
   "outputs": [],
   "source": [
    "folder_path=\"D:\\FYP dataset new\\Animal\\Environment noise\"\n",
    "dest_path =\"D:\\FYP dataset new\\MMU folder_FYP_Spectrogram creation\\Environment data\\Environment noise_wav\"\n",
    "\n",
    "file_list=os.listdir(folder_path)\n",
    "\n",
    "for i in range(0, len(file_list)):\n",
    "    counter = 0\n",
    "    if file_list[i] ==\".ipynb_checkpoints\":\n",
    "        continue\n",
    "        \n",
    "    elif(file_list[i][:5] ==\"shift\"):\n",
    "        continue\n",
    "    file_path=folder_path+'\\\\'+file_list[i]\n",
    "  \n",
    "\n",
    "    samplerate, data ,length= read_audio(file_path)\n",
    "\n",
    "    for j in range(int(length)):\n",
    "        segment_data = signal_segmentation(data[:,0],j,j+1,samplerate)\n",
    "        counter = j+1\n",
    "        new_name=dest_path+\"\\\\\"+file_list[i][:-4]+\"_\"+str(counter)+\"_.wav\"\n",
    "        write_audio(new_name,segment_data)\n",
    "    "
   ]
  },
  {
   "cell_type": "markdown",
   "metadata": {},
   "source": [
    "# Save shift img"
   ]
  },
  {
   "cell_type": "code",
   "execution_count": null,
   "metadata": {},
   "outputs": [],
   "source": [
    "clean_path = \"Augmentation sound/Clean/Elephant_clean\"\n",
    "\n",
    "clean_list=os.listdir(clean_path)\n",
    "shift_list = [file for file in file_list if file[:5] == \"shift\"]\n",
    "\n",
    "shift_ori_list=[file[6:] for file in shift_list]\n",
    "\n",
    "\n",
    "for i in range(0, len(shift_ori_list)):\n",
    "    ori_img_path = clean_path+\"/\"+shift_ori_list[i]\n",
    "    samplerate, data ,length= read_audio(ori_img_path)\n",
    "    \n",
    "    plt.figure(figsize=(7, 5))\n",
    "    spectrogram_value_clean_trim,min_db,max_db=spectrogram(data,data.shape[0],length,samplerate)\n",
    "    plt.title(\"Spectrogram clean \"+shift_ori_list[i])\n",
    "    \n",
    "    dataset_path = folder_path +\"/\"+\"shift_\"+shift_ori_list[i]\n",
    "    samplerate2, data2 ,length2= read_audio(dataset_path)\n",
    "    \n",
    "    filter_data=filter_signal(data2,samplerate2,1,15000,2)\n",
    "    downsample_data= downsampling(filter_data,samplerate, 32000)\n",
    "    \n",
    "    plt.figure(figsize=(7, 5))\n",
    "    spectrogram_value_clean_trim=spectrogram2(downsample_data,downsample_data.shape[0],length2,samplerate2)\n",
    "    \n",
    "    new_name=\"shift_\"+ shift_ori_list[i][:-4]+\".png\"\n",
    "    plotpath=dest_path + '/'+new_name\n",
    "  \n",
    "    print(plotpath)\n",
    "    #plt.savefig(plotpath, bbox_inches=\"tight\",pad_inches = 0)\n",
    "        \n",
    "    "
   ]
  },
  {
   "cell_type": "markdown",
   "metadata": {},
   "source": [
    "# Save Spectrogram New version\n"
   ]
  },
  {
   "cell_type": "code",
   "execution_count": null,
   "metadata": {},
   "outputs": [],
   "source": [
    "animal = \"Tiger\"\n",
    "folder_path=\"D:\\FYP dataset new\\MMU folder_FYP_Spectrogram creation\\Dataset version 1\\All spectrogram\\\\\"+ animal\n",
    "dest_path_train =\"D:\\FYP dataset new\\MMU folder_FYP_Spectrogram creation\\Dataset version 1\\\\train\\\\\" + animal\n",
    "dest_path_test =\"D:\\FYP dataset new\\MMU folder_FYP_Spectrogram creation\\Dataset version 1\\\\test\\\\\" + animal\n",
    "dest_path_val =\"D:\\FYP dataset new\\MMU folder_FYP_Spectrogram creation\\Dataset version 1\\\\val\\\\\" + animal\n",
    "dest_path_rest =\"D:\\FYP dataset new\\MMU folder_FYP_Spectrogram creation\\Dataset version 1\\\\rest\\\\\" + animal\n",
    "\n",
    "\n",
    "\n"
   ]
  },
  {
   "cell_type": "code",
   "execution_count": null,
   "metadata": {
    "scrolled": true
   },
   "outputs": [],
   "source": [
    "\n",
    "for i in range(0, len(file_list)):\n",
    "    counter = 0\n",
    "    if file_list[i] ==\".ipynb_checkpoints\":\n",
    "        continue\n",
    "        \n",
    "    \"\"\"elif(file_list[i][:5] ==\"shift\"):\n",
    "        continue\"\"\"\n",
    "    file_path=folder_path+'//'+file_list[i]\n",
    "  \n",
    "\n",
    "    samplerate, data ,length= read_audio(file_path)\n",
    "\n",
    "        \n",
    "    #plt.figure(figsize=(7, 5))\n",
    "    #spectrogram_value_clean_trim,min_db,max_db=spectrogram(segment_data,segment_data.shape[0],1,samplerate)\n",
    "    #plt.title(\"Spectrogram bandpass filter  \"+file_list[i])\n",
    "\n",
    "    filter_data=filter_signal(data,samplerate,1,15000,2)\n",
    "    downsample_data= downsampling(filter_data,samplerate, 32000)\n",
    "\n",
    "    plt.figure(figsize=(7, 5))\n",
    "    spectrogram_value_clean=spectrogram2(downsample_data,downsample_data.shape[0],1,samplerate)\n",
    "\n",
    "    new_name=file_list[i][:-4]+\"_.png\"\n",
    "    plotpath=dest_path_train + '\\\\'+new_name\n",
    "\n",
    "    #print(plotpath)\n",
    "    #spectrogram_list.append(new_name)\n",
    "    plt.savefig(plotpath, bbox_inches=\"tight\",pad_inches = 0)\n",
    "\n",
    "    "
   ]
  },
  {
   "cell_type": "code",
   "execution_count": null,
   "metadata": {},
   "outputs": [],
   "source": [
    "import random\n",
    "from PIL import Image\n",
    "import os"
   ]
  },
  {
   "cell_type": "code",
   "execution_count": null,
   "metadata": {},
   "outputs": [],
   "source": [
    "spectrogram_list=os.listdir(folder_path)\n",
    "train_data=random.sample(spectrogram_list, 120)\n",
    "print(len(spectrogram_list))\n",
    "\n",
    "for image in train_data:\n",
    "    file = folder_path+\"\\\\\"+image\n",
    "    img=Image.open(file)\n",
    "    save_location=dest_path_train+\"\\\\\"+image\n",
    "    img.save(save_location)\n",
    "    \n",
    "    "
   ]
  },
  {
   "cell_type": "code",
   "execution_count": null,
   "metadata": {},
   "outputs": [],
   "source": [
    "rest_data_1 = [item for item in spectrogram_list if item not in train_data]\n",
    "val_data=random.sample(rest_data_1, 40)\n",
    "print(len(rest_data_1))\n",
    "\n",
    "for image in val_data:\n",
    "    file = folder_path+\"\\\\\"+image\n",
    "    img=Image.open(file)\n",
    "    save_location=dest_path_val+\"\\\\\"+image\n",
    "    img.save(save_location)\n",
    "    "
   ]
  },
  {
   "cell_type": "code",
   "execution_count": null,
   "metadata": {},
   "outputs": [],
   "source": [
    "rest_data_2 = [item for item in rest_data_1 if item not in val_data]\n",
    "test_data=random.sample(rest_data_2, 40)\n",
    "print(len(rest_data_2))\n",
    "\n",
    "for image in test_data:\n",
    "    file = folder_path+\"\\\\\"+image\n",
    "    img=Image.open(file)\n",
    "    save_location=dest_path_test+\"\\\\\"+image\n",
    "    img.save(save_location)"
   ]
  },
  {
   "cell_type": "code",
   "execution_count": null,
   "metadata": {},
   "outputs": [],
   "source": [
    "rest_data_3 = [item for item in rest_data_2 if item not in test_data]\n",
    "print(len(rest_data_3))\n",
    "\n",
    "for image in rest_data_3:\n",
    "    file = folder_path+\"\\\\\"+image\n",
    "    img=Image.open(file)\n",
    "    save_location=dest_path_rest+\"\\\\\"+image\n",
    "    img.save(save_location)"
   ]
  }
 ],
 "metadata": {
  "colab": {
   "authorship_tag": "ABX9TyO190Xtc6aChBRCh3tEIp7w",
   "mount_file_id": "1yFafl6xTpsgNeEpOl0ATVP0bSzkZ8SH9",
   "provenance": []
  },
  "kernelspec": {
   "display_name": "Python 3",
   "language": "python",
   "name": "python3"
  },
  "language_info": {
   "codemirror_mode": {
    "name": "ipython",
    "version": 3
   },
   "file_extension": ".py",
   "mimetype": "text/x-python",
   "name": "python",
   "nbconvert_exporter": "python",
   "pygments_lexer": "ipython3",
   "version": "3.8.8"
  }
 },
 "nbformat": 4,
 "nbformat_minor": 4
}
